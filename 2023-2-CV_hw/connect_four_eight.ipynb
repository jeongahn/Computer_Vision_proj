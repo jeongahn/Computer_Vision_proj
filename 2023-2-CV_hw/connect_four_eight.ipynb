{
  "nbformat": 4,
  "nbformat_minor": 0,
  "metadata": {
    "colab": {
      "provenance": [],
      "gpuType": "T4"
    },
    "kernelspec": {
      "name": "python3",
      "display_name": "Python 3"
    },
    "language_info": {
      "name": "python"
    },
    "accelerator": "GPU"
  },
  "cells": [
    {
      "cell_type": "code",
      "execution_count": 1,
      "metadata": {
        "colab": {
          "base_uri": "https://localhost:8080/"
        },
        "id": "fiu-PasPz4lq",
        "outputId": "d470d249-3252-4019-fa99-6e6980f14c1a"
      },
      "outputs": [
        {
          "output_type": "stream",
          "name": "stdout",
          "text": [
            "Python 3.10.12\n"
          ]
        }
      ],
      "source": [
        "!python --version"
      ]
    },
    {
      "cell_type": "code",
      "source": [
        "import numpy as np\n",
        "import cv2\n",
        "import matplotlib.pyplot as plt\n",
        "cv2.__version__"
      ],
      "metadata": {
        "colab": {
          "base_uri": "https://localhost:8080/",
          "height": 35
        },
        "id": "Oslv6iJZ0LUq",
        "outputId": "26dfe0b4-df6d-4555-a27f-63f2f07e6d63"
      },
      "execution_count": 2,
      "outputs": [
        {
          "output_type": "execute_result",
          "data": {
            "text/plain": [
              "'4.8.0'"
            ],
            "application/vnd.google.colaboratory.intrinsic+json": {
              "type": "string"
            }
          },
          "metadata": {},
          "execution_count": 2
        }
      ]
    },
    {
      "cell_type": "code",
      "source": [
        "!wget https://i.imgur.com/iWGMlJR.png\n",
        "!mv iWGMlJR.png sample.png"
      ],
      "metadata": {
        "colab": {
          "base_uri": "https://localhost:8080/"
        },
        "id": "Q_TTwW240ST4",
        "outputId": "3bc321a9-ba0c-4968-897c-1c7ff4cc0a08"
      },
      "execution_count": 3,
      "outputs": [
        {
          "output_type": "stream",
          "name": "stdout",
          "text": [
            "--2023-10-16 02:02:19--  https://i.imgur.com/iWGMlJR.png\n",
            "Resolving i.imgur.com (i.imgur.com)... 146.75.92.193\n",
            "Connecting to i.imgur.com (i.imgur.com)|146.75.92.193|:443... connected.\n",
            "HTTP request sent, awaiting response... 200 OK\n",
            "Length: 491 [image/png]\n",
            "Saving to: ‘iWGMlJR.png’\n",
            "\n",
            "iWGMlJR.png         100%[===================>]     491  --.-KB/s    in 0s      \n",
            "\n",
            "2023-10-16 02:02:20 (31.8 MB/s) - ‘iWGMlJR.png’ saved [491/491]\n",
            "\n"
          ]
        }
      ]
    },
    {
      "cell_type": "code",
      "source": [
        "img = cv2.imread('sample.png')\n",
        "\n",
        "# image 출력\n",
        "plt.imshow(img)\n"
      ],
      "metadata": {
        "colab": {
          "base_uri": "https://localhost:8080/",
          "height": 393
        },
        "id": "HwYkNGTj0WDd",
        "outputId": "257d8fc7-9c3e-489a-8050-e32d23af761d"
      },
      "execution_count": 4,
      "outputs": [
        {
          "output_type": "execute_result",
          "data": {
            "text/plain": [
              "<matplotlib.image.AxesImage at 0x7db333476410>"
            ]
          },
          "metadata": {},
          "execution_count": 4
        },
        {
          "output_type": "display_data",
          "data": {
            "text/plain": [
              "<Figure size 640x480 with 1 Axes>"
            ],
            "image/png": "[encoded data removed]"
          },
          "metadata": {}
        }
      ]
    },
    {
      "cell_type": "markdown",
      "source": [
        "# 4연결성과 8연결성 라벨링 출력 예시\n",
        "## 숫자로 표시\n",
        "![alt text](https://i.imgur.com/lQ9nXox.png)\n",
        "## 색상으로 표시\n",
        "![alt text](https://i.imgur.com/91M3MwP.png)"
      ],
      "metadata": {
        "id": "D9Kal4U-0hdr"
      }
    },
    {
      "cell_type": "markdown",
      "source": [
        "# 과제1: 4연결성 라벨링\n",
        "\n",
        "- 위의 4연결성(4-neighbors) 라벨링과 같이 숫자 또는 색을 이용하여 라벨링하시오.\n",
        "- cf. 색의 종류에는 제한이 없고, 연결된 픽셀은 같은 숫자 또는 같은 색을 가져야함."
      ],
      "metadata": {
        "id": "HqCC3bqm0sso"
      }
    },
    {
      "cell_type": "code",
      "source": [
        "from collections import deque\n",
        "\n",
        "def bfs(org_img, check, label_number, colors, i, j, row, col):\n",
        "  q = deque([])\n",
        "  q.append([i, j])\n",
        "\n",
        "  dir = [[-1,0], [0,-1], [1,0], [0,1]]\n",
        "  color = list(np.random.choice(range(256), size = 3))\n",
        "\n",
        "  cnt = 0\n",
        "\n",
        "  while q:\n",
        "    tmp = q.popleft()\n",
        "\n",
        "    if check[tmp[0]][tmp[1]] != 1:\n",
        "      check[tmp[0]][tmp[1]] = 1\n",
        "      org_img[tmp[0]][tmp[1]] = label_number\n",
        "      colors[tmp[0]][tmp[1]] = color\n",
        "      cnt += 1\n",
        "\n",
        "    for y, x in dir:\n",
        "      dir_y = tmp[0] + y\n",
        "      dir_x = tmp[1] + x\n",
        "      if 0 <= dir_y <= row and 0 <= dir_x <= col:\n",
        "        if check[dir_y][dir_x] == 0 and org_img[dir_y][dir_x] != 0:\n",
        "          q.append([dir_y, dir_x])\n",
        "\n",
        "  return cnt"
      ],
      "metadata": {
        "id": "DInQtLkW1yj8"
      },
      "execution_count": 5,
      "outputs": []
    },
    {
      "cell_type": "code",
      "source": [
        "def four_connect(img):\n",
        "  img_sample = np.zeros_like(img)\n",
        "  img_sample[img > 127] = 1\n",
        "  row = len(img_sample)\n",
        "  col = len(img_sample[0])\n",
        "\n",
        "  org_img = img_sample\n",
        "  check = np.zeros(org_img.shape)\n",
        "  label_number = 0\n",
        "  colors = np.zeros((row,col,3))\n",
        "\n",
        "  for i in range(row):\n",
        "    for j in range(col):\n",
        "      if org_img[i][j] == 1 and check[i][j] == 0:\n",
        "        label_number = label_number+1\n",
        "        bfs(org_img, check, label_number, colors, i, j, row, col)\n",
        "\n",
        "\n",
        "\n",
        "  return colors, label_number"
      ],
      "metadata": {
        "id": "qmouuel-0dKf"
      },
      "execution_count": 6,
      "outputs": []
    },
    {
      "cell_type": "code",
      "source": [
        "#최상단에 import 를 추가한다.\n",
        "from google.colab.patches import cv2_imshow\n",
        "\n",
        "\n",
        "img = cv2.imread('sample.png',0)\n",
        "\n",
        "labeled_img, label_number = four_connect(img)\n",
        "\n",
        "# # image 출력\n",
        "print(\"label_number : \", label_number)\n",
        "cv2_imshow(labeled_img)\n"
      ],
      "metadata": {
        "colab": {
          "base_uri": "https://localhost:8080/",
          "height": 285
        },
        "id": "Imo_zriB06pk",
        "outputId": "d87b5c71-791f-40d2-da41-f456d24d9e14"
      },
      "execution_count": 7,
      "outputs": [
        {
          "output_type": "stream",
          "name": "stdout",
          "text": [
            "label_number :  81\n"
          ]
        },
        {
          "output_type": "display_data",
          "data": {
            "text/plain": [
              "<PIL.Image.Image image mode=RGB size=400x250>"
            ],
            "image/png": "[encoded data removed]"
          },
          "metadata": {}
        }
      ]
    },
    {
      "cell_type": "markdown",
      "source": [
        "# 과제2: 8연결성 라벨링\n",
        "- 위의 8연결성(8-neighbors) 라벨링과 같이 숫자 또는 색을 이용하여 라벨링하시오.\n",
        "- cf. 색의 종류에는 제한이 없고, 연결된 픽셀은 같은 숫자 또는 같은 색을 가져야함.-"
      ],
      "metadata": {
        "id": "cBMOQDQh48AO"
      }
    },
    {
      "cell_type": "code",
      "source": [
        "def bfs_eight(org_img, check, label_number, colors, i, j, row, col):\n",
        "  q = deque([])\n",
        "  q.append([i, j])\n",
        "\n",
        "  dir = ((1, 0), (-1, 0), (0, 1), (0, -1), (1, 1), (1, -1), (-1, 1), (-1, -1))\n",
        "  color = list(np.random.choice(range(256), size = 3))\n",
        "\n",
        "  cnt = 0\n",
        "\n",
        "  while q:\n",
        "    tmp = q.popleft()\n",
        "\n",
        "    if(check[tmp[0]][tmp[1]] != 1):\n",
        "       check[tmp[0]][tmp[1]] = 1\n",
        "       org_img[tmp[0]][tmp[1]] = label_number\n",
        "       colors[tmp[0]][tmp[1]] = color\n",
        "       cnt += 1\n",
        "\n",
        "    for y, x in dir:\n",
        "      dir_y = tmp[0] + y\n",
        "      dir_x = tmp[1] + x\n",
        "\n",
        "      if 0 <= dir_y <= row and 0 <= dir_x <= col:\n",
        "        if check[dir_y][dir_x] == 0 and org_img[dir_y][dir_x] != 0:\n",
        "          q.append([dir_y, dir_x])\n",
        "\n",
        "\n",
        "  return cnt"
      ],
      "metadata": {
        "id": "2D0CmFmh5UGg"
      },
      "execution_count": 8,
      "outputs": []
    },
    {
      "cell_type": "code",
      "source": [
        "def eight_connect(img):\n",
        "  img_sample = np.zeros_like(img)\n",
        "  img_sample[img > 127] = 1\n",
        "  row = len(img_sample)\n",
        "  col = len(img_sample[0])\n",
        "\n",
        "  org_img = img_sample\n",
        "  check = np.zeros(org_img.shape)\n",
        "  label_number = 0\n",
        "  colors = np.zeros((row, col, 3))\n",
        "\n",
        "  for i in range(0, row):\n",
        "    for j in range(0, col):\n",
        "      if org_img[i][j] == 1 and check[i][j] == 0:\n",
        "        label_number = label_number + 1\n",
        "        bfs_eight(org_img, check, label_number, colors, i, j, row, col)\n",
        "\n",
        "\n",
        "\n",
        "  return colors, label_number"
      ],
      "metadata": {
        "id": "-5a0mvn04350"
      },
      "execution_count": 11,
      "outputs": []
    },
    {
      "cell_type": "code",
      "source": [
        "img = cv2.imread('sample.png',0)\n",
        "\n",
        "labeled_img, label_number = eight_connect(img)\n",
        "\n",
        "# # image 출력\n",
        "print(\"label_number : \", label_number)\n",
        "cv2_imshow(labeled_img)"
      ],
      "metadata": {
        "colab": {
          "base_uri": "https://localhost:8080/",
          "height": 285
        },
        "id": "glOBMus_5G2e",
        "outputId": "24c65586-0cc3-45f4-f72f-e71ea62793b8"
      },
      "execution_count": 12,
      "outputs": [
        {
          "output_type": "stream",
          "name": "stdout",
          "text": [
            "label_number :  3\n"
          ]
        },
        {
          "output_type": "display_data",
          "data": {
            "text/plain": [
              "<PIL.Image.Image image mode=RGB size=400x250>"
            ],
            "image/png": "[encoded data removed]"
          },
          "metadata": {}
        }
      ]
    }
  ]
}